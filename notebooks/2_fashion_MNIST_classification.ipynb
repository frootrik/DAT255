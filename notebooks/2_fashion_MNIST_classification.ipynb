{
  "cells": [
    {
      "cell_type": "markdown",
      "metadata": {
        "id": "cNrxREnoH2Gc"
      },
      "source": [
        "# Image recognition on the Fashion MNIST dataset\n",
        "\n",
        "Instead of classifying ten digits, let's try a slightly harder example: Classifying black-and-white images of fashion items. This dataset is known as the [\"Fashion MNIST\" dataset](https://keras.io/api/datasets/fashion_mnist/), due to its similarity to the original MNIST data."
      ]
    },
    {
      "cell_type": "code",
      "execution_count": null,
      "metadata": {
        "id": "0PKdfBRTH2Gd"
      },
      "outputs": [],
      "source": [
        "import numpy as np\n",
        "import keras\n",
        "import matplotlib.pyplot as plt"
      ]
    },
    {
      "cell_type": "markdown",
      "metadata": {
        "id": "PSGo0DGHH2Ge"
      },
      "source": [
        "## Load the data\n",
        "The dataset contains 60 000 training images and 10 000 testing images, from 10 different categories:\n",
        "\n",
        "| Label | Description |\n",
        "| ----- | ----- |\n",
        "| 0 | T-shirt/top |\n",
        "| 1 | Trouser |\n",
        "| 2 | Pullover |\n",
        "| 3 | Dress |\n",
        "| 4 | Coat |\n",
        "| 5 | Sandal |\n",
        "| 6 | Shirt |\n",
        "| 7 | Sneaker |\n",
        "| 8 | Bag |\n",
        "| 9 | Ankle boot |"
      ]
    },
    {
      "cell_type": "code",
      "execution_count": null,
      "metadata": {
        "id": "OUj9yBRVH2Gf"
      },
      "outputs": [],
      "source": [
        "(X_train, y_train), (X_test, y_test) = keras.datasets.fashion_mnist.load_data()\n",
        "\n",
        "# Scale the images to the [0, 1] interval\n",
        "X_train = X_train.astype(\"float32\") / 255.\n",
        "X_test = X_test.astype(\"float32\") / 255.\n",
        "\n",
        "# Add the \"channel\" dimension\n",
        "X_train = np.expand_dims(X_train, -1)\n",
        "X_test = np.expand_dims(X_test, -1)"
      ]
    },
    {
      "cell_type": "markdown",
      "metadata": {
        "id": "RKdvnVvdH2Gf"
      },
      "source": [
        "If we look at the target values in `y_train`, we see that these have labels 0-9:"
      ]
    },
    {
      "cell_type": "code",
      "execution_count": null,
      "metadata": {
        "id": "at9Oisf3H2Gf",
        "outputId": "be0c0c7f-f0e2-4e31-c325-00762d30c1b1"
      },
      "outputs": [
        {
          "name": "stdout",
          "output_type": "stream",
          "text": [
            "(60000,)\n",
            "[9 0 0 3 0]\n"
          ]
        }
      ],
      "source": [
        "print(y_train.shape)\n",
        "print(y_train[:5])"
      ]
    },
    {
      "cell_type": "markdown",
      "metadata": {
        "id": "nO0gfwmwH2Gg"
      },
      "source": [
        "But, we rather want them to be _categorical_: instead of\n",
        "```\n",
        "y_train[0] -> 9\n",
        "```\n",
        "we want\n",
        "```\n",
        "y_train[0] -> [0 0 0 0 0 0 0 0 0 1]\n",
        "```\n",
        "\n",
        "### <span style=\"color: red;\">Exercise:<span>\n",
        "Convert the labels to categorical format, using the function `keras.utils.to_categorical`."
      ]
    },
    {
      "cell_type": "code",
      "execution_count": null,
      "metadata": {
        "id": "5ldr2ponH2Gg"
      },
      "outputs": [],
      "source": [
        "#y_train = ...   # TODO\n",
        "#y_test = ..."
      ]
    },
    {
      "cell_type": "markdown",
      "metadata": {
        "id": "TLUNaHIGH2Gg"
      },
      "source": [
        "Now, let's get the image shape (width and height) by checking the first image:"
      ]
    },
    {
      "cell_type": "code",
      "execution_count": null,
      "metadata": {
        "id": "192hzl3tH2Gh"
      },
      "outputs": [],
      "source": [
        "image_shape = X_train[0].shape\n",
        "print(image_shape)"
      ]
    },
    {
      "cell_type": "markdown",
      "metadata": {
        "id": "sVpTY6BVH2Gh"
      },
      "source": [
        "Define the class names from the table above:"
      ]
    },
    {
      "cell_type": "code",
      "execution_count": null,
      "metadata": {
        "id": "RuPc9URLH2Gh"
      },
      "outputs": [],
      "source": [
        "class_names = [\n",
        "    \"T-shirt/top\", \"Trouser\", \"Pullover\", \"Dress\", \"Coat\",\n",
        "    \"Sandal\", \"Shirt\", \"Sneaker\", \"Bag\", \"Ankle boot\"\n",
        "]"
      ]
    },
    {
      "cell_type": "markdown",
      "metadata": {
        "id": "eHuWz-teH2Gi"
      },
      "source": [
        "Plot the first few images."
      ]
    },
    {
      "cell_type": "code",
      "execution_count": null,
      "metadata": {
        "id": "6erUVpaKH2Gi"
      },
      "outputs": [],
      "source": [
        "n_rows = 5\n",
        "n_cols = 5\n",
        "plt.figure(figsize=(n_cols * 1.2, n_rows * 1.2))\n",
        "for row in range(n_rows):\n",
        "    for col in range(n_cols):\n",
        "        index = n_cols * row + col\n",
        "        plt.subplot(n_rows, n_cols, index + 1)\n",
        "        plt.imshow(X_train[index], cmap=\"binary\", interpolation=\"nearest\")\n",
        "        plt.axis('off')\n",
        "        plt.title(class_names[np.argmax(y_train[index])])\n",
        "plt.subplots_adjust(wspace=0.2, hspace=0.5)\n",
        "\n",
        "plt.show()"
      ]
    },
    {
      "cell_type": "markdown",
      "metadata": {
        "id": "djMgJvwTH2Gj"
      },
      "source": [
        "### <span style=\"color: red;\">Exercise:<span>\n",
        "Create a neural network yourself, using the Keras API."
      ]
    },
    {
      "cell_type": "code",
      "execution_count": null,
      "metadata": {
        "id": "L0WjqOPYH2Gj"
      },
      "outputs": [],
      "source": [
        "#model = ...     # TODO"
      ]
    },
    {
      "cell_type": "markdown",
      "metadata": {
        "id": "6zRe3I1MH2Gj"
      },
      "source": [
        "### Compile and train the network"
      ]
    },
    {
      "cell_type": "code",
      "execution_count": null,
      "metadata": {
        "id": "VBi5ZFOQH2Gj"
      },
      "outputs": [],
      "source": [
        "model.compile(loss=\"categorical_crossentropy\", optimizer=\"adam\", metrics=[\"accuracy\"])\n"
      ]
    },
    {
      "cell_type": "code",
      "execution_count": null,
      "metadata": {
        "id": "77TkjiMVH2Gk"
      },
      "outputs": [],
      "source": [
        "batch_size = 128    # How many images to load in a single batch\n",
        "epochs = 10         # How many times to iterate over the full dataset\n",
        "\n",
        "history = model.fit(X_train, y_train, batch_size=batch_size, epochs=epochs, validation_split=0.1)"
      ]
    },
    {
      "cell_type": "markdown",
      "metadata": {
        "id": "nhy5doA7H2Gk"
      },
      "source": [
        "### Plot the training performance\n",
        "\n",
        "Let's plot the training performance as function of epoch number.\n",
        "\n",
        "First, have a look at the contents of the `history` dictionary:"
      ]
    },
    {
      "cell_type": "code",
      "execution_count": null,
      "metadata": {
        "id": "-1IrwgIqH2Gk"
      },
      "outputs": [],
      "source": [
        "print(history.history.keys())"
      ]
    },
    {
      "cell_type": "markdown",
      "metadata": {
        "id": "yBdo52_FH2Gk"
      },
      "source": [
        "Plot the training and validation loss:"
      ]
    },
    {
      "cell_type": "code",
      "execution_count": null,
      "metadata": {
        "id": "kRPaS_WEH2Gl"
      },
      "outputs": [],
      "source": [
        "plt.plot(history.history['loss'])\n",
        "plt.plot(history.history['val_loss'])\n",
        "plt.title('model loss')\n",
        "plt.ylabel('loss')\n",
        "plt.xlabel('epoch')\n",
        "plt.legend(['train', 'validation'], loc='upper right')\n",
        "plt.show()"
      ]
    },
    {
      "cell_type": "markdown",
      "metadata": {
        "id": "bx6x-Af2H2Gl"
      },
      "source": [
        "Plot the accuracy:"
      ]
    },
    {
      "cell_type": "code",
      "execution_count": null,
      "metadata": {
        "id": "2d1PsdTzH2Gl"
      },
      "outputs": [],
      "source": [
        "\n",
        "# summarize history for accuracy\n",
        "plt.plot(history.history['accuracy'])\n",
        "plt.plot(history.history['val_accuracy'])\n",
        "plt.title('model accuracy')\n",
        "plt.ylabel('accuracy')\n",
        "plt.xlabel('epoch')\n",
        "plt.legend(['train', 'test'], loc='upper left')\n",
        "plt.show()"
      ]
    },
    {
      "cell_type": "markdown",
      "metadata": {
        "id": "QobQFyMzH2Gm"
      },
      "source": [
        "Evaluate your model on the test data"
      ]
    },
    {
      "cell_type": "code",
      "execution_count": null,
      "metadata": {
        "id": "Fl8OM12kH2Gm"
      },
      "outputs": [],
      "source": [
        "score = model.evaluate(X_test, y_test, verbose=0)\n",
        "print(\"Test loss:\", score[0])\n",
        "print(\"Test accuracy:\", score[1])"
      ]
    },
    {
      "cell_type": "markdown",
      "metadata": {
        "id": "LA77xKI_H2Gm"
      },
      "source": [
        "### <span style=\"color: red;\">Exercise:<span>\n",
        "Try out different numbers of layers and different numbers of filters, to fint the best possible network. Train for as many epochs as you think is optimal (remember over- and underfitting)."
      ]
    }
  ],
  "metadata": {
    "kernelspec": {
      "display_name": "Python 3 (ipykernel)",
      "language": "python",
      "name": "python3"
    },
    "language_info": {
      "codemirror_mode": {
        "name": "ipython",
        "version": 3
      },
      "file_extension": ".py",
      "mimetype": "text/x-python",
      "name": "python",
      "nbconvert_exporter": "python",
      "pygments_lexer": "ipython3",
      "version": "3.10.12"
    },
    "colab": {
      "provenance": []
    }
  },
  "nbformat": 4,
  "nbformat_minor": 0
}